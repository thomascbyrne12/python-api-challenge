{
 "cells": [
  {
   "cell_type": "code",
   "execution_count": 1,
   "metadata": {},
   "outputs": [],
   "source": [
    "# Dependencies\n",
    "import json\n",
    "import requests\n",
    "from config import api_key\n",
    "import matplotlib.pyplot as plt\n",
    "import pandas as pd\n",
    "import numpy as np\n",
    "import time\n",
    "from citipy import citipy\n",
    "\n",
    "# Output File (CSV)\n",
    "output_data_file = \"output_data/cities.csv\"\n",
    "\n",
    "# Range of latitudes and longitudes\n",
    "lat_range = (-90, 90)\n",
    "lng_range = (-180, 180)"
   ]
  },
  {
   "cell_type": "code",
   "execution_count": 2,
   "metadata": {},
   "outputs": [],
   "source": [
    "# List for holding lat_lngs and cities\n",
    "lat_lngs = []\n",
    "cities = []\n",
    "\n",
    "# Create a set of random lat and lng combinations\n",
    "lats = np.random.uniform(low=-90.000, high=90.000, size=1500)\n",
    "lngs = np.random.uniform(low=-180.000, high=180.000, size=1500)\n",
    "lat_lngs = zip(lats, lngs)\n",
    "\n",
    "# Identify nearest city for each lat, lng combination\n",
    "for lat_lng in lat_lngs:\n",
    "    city = citipy.nearest_city(lat_lng[0], lat_lng[1]).city_name\n",
    "    \n",
    "    # If the city is unique, then add it to a our cities list\n",
    "    if city not in cities:\n",
    "        cities.append(city)"
   ]
  },
  {
   "cell_type": "code",
   "execution_count": 3,
   "metadata": {},
   "outputs": [],
   "source": [
    "# Settting up OpenWeather url\n",
    "url = \"http://api.openweathermap.org/data/2.5/weather?\"\n",
    "units = \"imperial\"\n",
    "\n",
    "# Adding our variables to OpenWeather\n",
    "query_url = f\"{url}appid={api_key}&units={units}&q=\""
   ]
  },
  {
   "cell_type": "code",
   "execution_count": 4,
   "metadata": {},
   "outputs": [],
   "source": [
    "# Define lists to hold components\n",
    "names = []\n",
    "cloudinesses = []\n",
    "countries = []\n",
    "timestamps = []\n",
    "humidities = []\n",
    "latitudes = []\n",
    "longitudes = []\n",
    "max_temperatures = []\n",
    "wind_speeds = []"
   ]
  },
  {
   "cell_type": "code",
   "execution_count": 5,
   "metadata": {},
   "outputs": [
    {
     "name": "stdout",
     "output_type": "stream",
     "text": [
      "\n",
      "It appears you gave an invalid input.  Please try again.\n"
     ]
    }
   ],
   "source": [
    "# Pulling Data\n",
    "try:\n",
    "     for city in cities:\n",
    "                response = requests.get(query_url + city).json()\n",
    "                record_number = cities.index(city)\n",
    "                \n",
    "                try:\n",
    "                    name = response[\"name\"]\n",
    "                    print(f\"Processing record {(record_number)+1} of {len(cities_to_check)}: {city_name}\")\n",
    "                    names.append(response[\"name\"])\n",
    "                    cloudinesses.append(response[\"clouds\"][\"all\"])\n",
    "                    countries.append(response[\"sys\"][\"country\"])\n",
    "                    timestamps.append(response[\"dt\"])\n",
    "                    humidities.append(response[\"main\"][\"humidity\"])\n",
    "                    latitudes.append(response[\"coord\"][\"lat\"])\n",
    "                    longitudes.append(response[\"coord\"][\"lon\"])\n",
    "                    max_temperatures.append(response[\"main\"][\"temp_max\"])\n",
    "                    wind_speeds.append(response[\"wind\"][\"speed\"])\n",
    "        \n",
    "                except:\n",
    "                    print (f\"Processing record {(record_number)+1} of {len(cities_to_check)}. City not found.  Skipping...\")\n",
    "except:\n",
    "    print(\"\\nIt appears you gave an invalid input.  Please try again.\")"
   ]
  },
  {
   "cell_type": "code",
   "execution_count": null,
   "metadata": {},
   "outputs": [],
   "source": []
  }
 ],
 "metadata": {
  "language_info": {
   "codemirror_mode": {
    "name": "ipython",
    "version": 3
   },
   "file_extension": ".py",
   "mimetype": "text/x-python",
   "name": "python",
   "nbconvert_exporter": "python",
   "pygments_lexer": "ipython3",
   "version": "3.7.3"
  }
 },
 "nbformat": 4,
 "nbformat_minor": 2
}
